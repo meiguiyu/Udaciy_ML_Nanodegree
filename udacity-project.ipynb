{
  "cells": [
    {
      "cell_type": "code",
      "source": [
        "from azureml.core.compute import ComputeTarget, AmlCompute\n",
        "from azureml.core import Workspace\n",
        "ws = Workspace.from_config()\n",
        "cluster_name = \"udaciy-yum\"\n",
        "# TODO: Create compute cluster\n",
        "# Use vm_size = \"Standard_D2_V2\" in your provisioning configuration.\n",
        "# max_nodes should be no greater than 4.\n",
        "### YOUR CODE HERE ###\n",
        "compute_config = AmlCompute.provisioning_configuration(vm_size='STANDARD_D2_V2', max_nodes=4)\n",
        "yum_cluster = ComputeTarget.create(ws, cluster_name, compute_config)\n",
        "yum_cluster.wait_for_completion(show_output=True)"
      ],
      "outputs": [
        {
          "output_type": "stream",
          "name": "stdout",
          "text": "InProgress.\nSucceededProvisioning operation finished, operation \"Succeeded\"\nSucceeded\nAmlCompute wait for completion finished\n\nMinimum number of nodes requested have been provisioned\n"
        }
      ],
      "execution_count": 1,
      "metadata": {
        "gather": {
          "logged": 1667790144118
        }
      },
      "id": "f5156a8a"
    },
    {
      "cell_type": "code",
      "source": [
        "from azureml.widgets import RunDetails\n",
        "from azureml.train.sklearn import SKLearn\n",
        "from azureml.train.hyperdrive.run import PrimaryMetricGoal\n",
        "from azureml.train.hyperdrive.policy import BanditPolicy\n",
        "from azureml.train.hyperdrive.sampling import RandomParameterSampling\n",
        "from azureml.train.hyperdrive.runconfig import HyperDriveConfig\n",
        "from azureml.train.hyperdrive.parameter_expressions import choice, uniform\n",
        "from azureml.core import Environment, ScriptRunConfig\n",
        "from azureml.core.experiment import Experiment\n",
        "import os\n",
        "\n",
        "# Specify parameter sampler\n",
        "# ps = ### YOUR CODE HERE ###\n",
        "ps = RandomParameterSampling( {\n",
        "        \"learning_rate\": uniform(0.05, 0.1),\n",
        "        \"batch_size\": choice(16, 32, 64, 128)\n",
        "    }\n",
        ")\n",
        "\n",
        "# Specify a Policy\n",
        "# policy = ### YOUR CODE HERE ###\n",
        "policy = BanditPolicy(evaluation_interval = 5, slack_factor=0.1)\n",
        "\n",
        "if \"training\" not in os.listdir():\n",
        "    os.mkdir(\"./training\")\n",
        "\n",
        "# Setup environment for your training run\n",
        "sklearn_env = Environment.from_conda_specification(name='sklearn-env', file_path='conda_dependencies.yml')"
      ],
      "outputs": [],
      "execution_count": 3,
      "metadata": {
        "gather": {
          "logged": 1667790361971
        }
      },
      "id": "42030887"
    },
    {
      "cell_type": "code",
      "source": [
        "# Create a ScriptRunConfig Object to specify the configuration details of your training job\n",
        "# src = ### YOUR CODE HERE ###\n",
        "\n",
        "# create or load an experiment\n",
        "experiment = Experiment(ws, 'LRExperiment')\n",
        "src = ScriptRunConfig(source_directory='.',\n",
        "                        script='train.py',\n",
        "                        compute_target=yum_cluster,\n",
        "                        environment=sklearn_env)\n",
        "\n",
        "# Create a HyperDriveConfig using the src object, hyperparameter sampler, and policy.\n",
        "# hyperdrive_config = ### YOUR CODE HERE ###\n",
        "hyperdrive_config = HyperDriveConfig(run_config=src,\n",
        "                                hyperparameter_sampling=ps,\n",
        "                                policy=policy,\n",
        "                                primary_metric_name='Accuracy',\n",
        "                                primary_metric_goal=PrimaryMetricGoal.MAXIMIZE,\n",
        "                                max_total_runs=20,\n",
        "                                max_concurrent_runs=4)"
      ],
      "outputs": [],
      "execution_count": 5,
      "metadata": {
        "gather": {
          "logged": 1667790424472
        }
      },
      "id": "8fcdaceb"
    },
    {
      "cell_type": "code",
      "source": [
        "# Submit your hyperdrive run to the experiment and show run details with the widget.\n",
        "\n",
        "### YOUR CODE HERE ###\n",
        "hd_run = experiment.submit(config=hyperdrive_config)\n",
        "RunDetails(hd_run).show()\n"
      ],
      "outputs": [],
      "execution_count": null,
      "metadata": {},
      "id": "13da3e60"
    },
    {
      "cell_type": "code",
      "source": [
        "import joblib\n",
        "# Get your best run and save the model from that run.\n",
        "\n",
        "### YOUR CODE HERE ###\n",
        "\n",
        "best_run = hd_run.get_best_run_by_primary_metric()\n",
        "joblib.dump(value= best_run, filename = './hd_best_model.joblib')\n",
        "\n",
        "# # tag the runs \n",
        "# run1.add_properties(\"author\":\"yum\")\n",
        "# run1.tag(\"quality\",\"best_run\")\n",
        "# list(experiment.get_runs(properties = {\"author\":\"yum\"}, tags = {\"quality\" : \"best_run\"}))\n",
        "# best_model = experiment.get_runs(properties = {\"author\":\"yum\"}, tags = {\"quality\" : \"best_run\"})"
      ],
      "outputs": [],
      "execution_count": null,
      "metadata": {
        "gather": {
          "logged": 1667790519432
        }
      },
      "id": "dd2371bd"
    },
    {
      "cell_type": "code",
      "source": [
        "from azureml.data.dataset_factory import TabularDatasetFactory\n",
        "\n",
        "# Create TabularDataset using TabularDatasetFactory\n",
        "# Data is available at: \n",
        "# \"https://automlsamplenotebookdata.blob.core.windows.net/automl-sample-notebook-data/bankmarketing_train.csv\"\n",
        "\n",
        "### YOUR CODE HERE ###\n",
        "url = ['https://automlsamplenotebookdata.blob.core.windows.net/automl-sample-notebook-data/bankmarketing_train.csv']\n",
        "dataset = TabularDatasetFactory.from_delimited_files(url)\n",
        "# ds = dataset.to_pandas_dataframe() "
      ],
      "outputs": [],
      "execution_count": 8,
      "metadata": {
        "gather": {
          "logged": 1667790540555
        }
      },
      "id": "d6d0b31d"
    },
    {
      "cell_type": "code",
      "source": [
        "from train import clean_data\n",
        "from sklearn.model_selection import train_test_split\n",
        "import pandas as pd\n",
        "\n",
        "# Use the clean_data function to clean your data.\n",
        "x, y = clean_data(dataset)\n",
        "x_train, x_test, y_train, y_test = train_test_split(x, y, test_size=0.2, random_state=2022)\n",
        "df_train = pd.concat([x_train,y_train], axis=1)"
      ],
      "outputs": [],
      "execution_count": 10,
      "metadata": {
        "gather": {
          "logged": 1667790596818
        }
      },
      "id": "2452dfca"
    },
    {
      "cell_type": "code",
      "source": [
        "from azureml.train.automl import AutoMLConfig\n",
        "\n",
        "# Set parameters for AutoMLConfig\n",
        "# NOTE: DO NOT CHANGE THE experiment_timeout_minutes PARAMETER OR YOUR INSTANCE WILL TIME OUT.\n",
        "# If you wish to run the experiment longer, you will need to run this notebook in your own\n",
        "# Azure tenant, which will incur personal costs.\n",
        "automl_config = AutoMLConfig(\n",
        "    experiment_timeout_minutes=30,\n",
        "    task= 'classification',\n",
        "    primary_metric= 'accuracy',\n",
        "    training_data=df_train,\n",
        "    label_column_name='y',\n",
        "    n_cross_validations=5)"
      ],
      "outputs": [],
      "execution_count": 14,
      "metadata": {
        "gather": {
          "logged": 1667790645081
        }
      },
      "id": "201a91a5"
    },
    {
      "cell_type": "code",
      "source": [
        "# Submit your automl run\n",
        "\n",
        "### YOUR CODE HERE ###\n",
        "auto_run = experiment.submit(automl_config, show_output = True)"
      ],
      "outputs": [
        {
          "output_type": "stream",
          "name": "stdout",
          "text": "No run_configuration provided, running on local with default configuration\nRunning in the active local environment.\n"
        },
        {
          "output_type": "display_data",
          "data": {
            "text/plain": "<IPython.core.display.HTML object>",
            "text/html": "<table style=\"width:100%\"><tr><th>Experiment</th><th>Id</th><th>Type</th><th>Status</th><th>Details Page</th><th>Docs Page</th></tr><tr><td>LRExperiment</td><td>AutoML_d157dfd9-4646-4a66-ad71-c6dc591a58fa</td><td>automl</td><td>Preparing</td><td><a href=\"https://ml.azure.com/runs/AutoML_d157dfd9-4646-4a66-ad71-c6dc591a58fa?wsid=/subscriptions/9a7511b8-150f-4a58-8528-3e7d50216c31/resourcegroups/aml-quickstarts-214520/workspaces/quick-starts-ws-214520&amp;tid=660b3398-b80e-49d2-bc5b-ac1dc93b5254\" target=\"_blank\" rel=\"noopener\">Link to Azure Machine Learning studio</a></td><td><a href=\"https://docs.microsoft.com/en-us/python/api/overview/azure/ml/intro?view=azure-ml-py\" target=\"_blank\" rel=\"noopener\">Link to Documentation</a></td></tr></table>"
          },
          "metadata": {}
        },
        {
          "output_type": "stream",
          "name": "stdout",
          "text": "Current status: DatasetEvaluation. Gathering dataset statistics.\nCurrent status: FeaturesGeneration. Generating features for the dataset.\nCurrent status: DatasetFeaturization. Beginning to fit featurizers and featurize the dataset.\nCurrent status: DatasetFeaturizationCompleted. Completed fit featurizers and featurizing the dataset.\nCurrent status: DatasetBalancing. Performing class balancing sweeping\nCurrent status: DatasetCrossValidationSplit. Generating individually featurized CV splits.\n\n********************************************************************************************\nDATA GUARDRAILS: \n\nTYPE:         Class balancing detection\nSTATUS:       ALERTED\nDESCRIPTION:  To decrease model bias, please cancel the current run and fix balancing problem.\n              Learn more about imbalanced data: https://aka.ms/AutomatedMLImbalancedData\nDETAILS:      Imbalanced data can lead to a falsely perceived positive effect of a model's accuracy because the input data has bias towards one class.\n+------------------------------+--------------------------------+--------------------------------------+\n|Size of the smallest class    |Name/Label of the smallest class|Number of samples in the training data|\n+==============================+================================+======================================+\n|2953                          |1                               |26360                                 |\n+------------------------------+--------------------------------+--------------------------------------+\n\n********************************************************************************************\n\nTYPE:         Missing feature values imputation\nSTATUS:       PASSED\nDESCRIPTION:  No feature missing values were detected in the training data.\n              Learn more about missing value imputation: https://aka.ms/AutomatedMLFeaturization\n\n********************************************************************************************\n\nTYPE:         High cardinality feature detection\nSTATUS:       PASSED\nDESCRIPTION:  Your inputs were analyzed, and no high cardinality features were detected.\n              Learn more about high cardinality feature handling: https://aka.ms/AutomatedMLFeaturization\n\n********************************************************************************************\nCurrent status: ModelSelection. Beginning model selection.\n\n********************************************************************************************\nITER: The iteration being evaluated.\nPIPELINE: A summary description of the pipeline being evaluated.\nDURATION: Time taken for the current iteration.\nMETRIC: The result of computing score on the fitted pipeline.\nBEST: The best observed score thus far.\n********************************************************************************************\n\n ITER   PIPELINE                                       DURATION            METRIC      BEST\n    0   MaxAbsScaler LightGBM                          0:00:40             0.9152    0.9152\n    1   MaxAbsScaler XGBoostClassifier                 0:00:53             0.9115    0.9152\n    2   MaxAbsScaler ExtremeRandomTrees                0:00:43             0.7272    0.9152\n    3   SparseNormalizer XGBoostClassifier             0:00:45             0.9128    0.9152\n    4   MaxAbsScaler LightGBM                          0:00:36             0.9138    0.9152\n    5   MaxAbsScaler LightGBM                          0:00:35             0.8880    0.9152\n    6   StandardScalerWrapper XGBoostClassifier        0:00:39             0.9088    0.9152\n    7   MaxAbsScaler LogisticRegression                0:00:40             0.9080    0.9152\n    8   StandardScalerWrapper ExtremeRandomTrees       0:00:35             0.8888    0.9152\n    9   StandardScalerWrapper XGBoostClassifier        0:00:36             0.9137    0.9152\n   10   SparseNormalizer LightGBM                      0:00:34             0.9047    0.9152\n   11   "
        }
      ],
      "execution_count": 15,
      "metadata": {
        "gather": {
          "logged": 1667790620429
        }
      },
      "id": "d7922130"
    },
    {
      "cell_type": "code",
      "source": [
        "# Retrieve and save your best automl model.\n",
        "\n",
        "### YOUR CODE HERE ###\n",
        "\n",
        "best_auto_run = auto_run.get_best_run_by_primary_metric()\n",
        "joblib.dump(value= best_auto_run, filename = './auto_best_model.joblib')\n",
        "\n",
        "# autorun.add_properties(\"author\":\"yum\")\n",
        "# autorun.tag(\"quality\",\"best_auto_run\")\n",
        "# list(experiment.get_runs(properties = {\"author\":\"yum\"}, tags = {\"quality\" : \"best_auto_run\"}))\n",
        "# best_auto_model = experiment.get_runs(properties = {\"author\":\"yum\"}, tags = {\"quality\" : \"best_auto_run\"})"
      ],
      "outputs": [],
      "execution_count": null,
      "metadata": {
        "gather": {
          "logged": 1667790605682
        }
      },
      "id": "d11c042a"
    }
  ],
  "metadata": {
    "kernelspec": {
      "name": "python3",
      "language": "python",
      "display_name": "Python 3 (ipykernel)"
    },
    "language_info": {
      "name": "python",
      "version": "3.8.5",
      "mimetype": "text/x-python",
      "codemirror_mode": {
        "name": "ipython",
        "version": 3
      },
      "pygments_lexer": "ipython3",
      "nbconvert_exporter": "python",
      "file_extension": ".py"
    },
    "kernel_info": {
      "name": "python3"
    },
    "nteract": {
      "version": "nteract-front-end@1.0.0"
    },
    "microsoft": {
      "host": {
        "AzureML": {
          "notebookHasBeenCompleted": true
        }
      }
    }
  },
  "nbformat": 4,
  "nbformat_minor": 5
}