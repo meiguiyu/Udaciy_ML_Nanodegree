{
 "cells": [
  {
   "cell_type": "code",
   "execution_count": null,
   "id": "f5156a8a",
   "metadata": {},
   "outputs": [],
   "source": [
    "from azureml.core.compute import ComputeTarget, AmlCompute\n",
    "\n",
    "cluster_name = \"udaciy_yum\"\n",
    "\n",
    "# TODO: Create compute cluster\n",
    "# Use vm_size = \"Standard_D2_V2\" in your provisioning configuration.\n",
    "# max_nodes should be no greater than 4.\n",
    "\n",
    "### YOUR CODE HERE ###\n",
    "cluster_basic = AmlCompute(\n",
    "    type=\"amlcompute\",\n",
    "    size=\"Standard_D2_V2\",\n",
    "    min_instances=0,\n",
    "    max_instances=4\n",
    ")\n",
    "ml_client.begin_create_or_update(cluster_basic).result()"
   ]
  },
  {
   "cell_type": "code",
   "execution_count": null,
   "id": "42030887",
   "metadata": {},
   "outputs": [],
   "source": [
    "from azureml.widgets import RunDetails\n",
    "from azureml.train.sklearn import SKLearn\n",
    "from azureml.train.hyperdrive.run import PrimaryMetricGoal\n",
    "from azureml.train.hyperdrive.policy import BanditPolicy\n",
    "from azureml.train.hyperdrive.sampling import RandomParameterSampling\n",
    "from azureml.train.hyperdrive.runconfig import HyperDriveConfig\n",
    "from azureml.train.hyperdrive.parameter_expressions import choice, uniform\n",
    "from azureml.core import Environment, ScriptRunConfig\n",
    "from azureml.core.experiment import Experiment\n",
    "import os\n",
    "\n",
    "# Specify parameter sampler\n",
    "# ps = ### YOUR CODE HERE ###\n",
    "ps = RandomParameterSampling( {\n",
    "        \"learning_rate\": uniform(0.05, 0.1),\n",
    "        \"batch_size\": choice(16, 32, 64, 128)\n",
    "    }\n",
    ")\n",
    "\n",
    "# Specify a Policy\n",
    "# policy = ### YOUR CODE HERE ###\n",
    "policy = BanditPolicy(evaluation_interval = 5, slack_factor=0.1)\n",
    "\n",
    "if \"training\" not in os.listdir():\n",
    "    os.mkdir(\"./training\")\n",
    "\n",
    "# Setup environment for your training run\n",
    "sklearn_env = Environment.from_conda_specification(name='sklearn-env', file_path='conda_dependencies.yml')"
   ]
  },
  {
   "cell_type": "code",
   "execution_count": null,
   "id": "8fcdaceb",
   "metadata": {},
   "outputs": [],
   "source": [
    "# Create a ScriptRunConfig Object to specify the configuration details of your training job\n",
    "# src = ### YOUR CODE HERE ###\n",
    "\n",
    "from azureml.core import WorkSpace\n",
    "\n",
    "# create or load an experiment\n",
    "workspace = WorkSpace.from_config()\n",
    "experiment = Experiment(workspace, 'LRExperiment')\n",
    "src = ScriptRunConfig(source_directory='.',\n",
    "                        script='train.py',\n",
    "                        compute_target=cluster_basic,\n",
    "                        environment=sklearn_env)\n",
    "\n",
    "# Create a HyperDriveConfig using the src object, hyperparameter sampler, and policy.\n",
    "# hyperdrive_config = ### YOUR CODE HERE ###\n",
    "hyperdrive_config = HyperDriveConfig(run_config=src,\n",
    "                                hyperparameter_sampling=ps,\n",
    "                                policy=policy,\n",
    "                                primary_metric_name='Accuracy',\n",
    "                                primary_metric_goal=PrimaryMetricGoal.MAXIMIZE,\n",
    "                                max_total_runs=20,\n",
    "                                max_concurrent_runs=4)"
   ]
  },
  {
   "cell_type": "code",
   "execution_count": null,
   "id": "13da3e60",
   "metadata": {},
   "outputs": [],
   "source": [
    "# Submit your hyperdrive run to the experiment and show run details with the widget.\n",
    "\n",
    "### YOUR CODE HERE ###\n",
    "run1 = experiment.submit(config=hyperdrive_config)\n",
    "RunDetails(run1).show()\n",
    "run1\n"
   ]
  },
  {
   "cell_type": "code",
   "execution_count": null,
   "id": "dd2371bd",
   "metadata": {},
   "outputs": [],
   "source": [
    "import joblib\n",
    "# Get your best run and save the model from that run.\n",
    "\n",
    "### YOUR CODE HERE ###\n",
    "\n",
    "get_best_run_by_primary_metric(\n",
    "  run1,\n",
    "  include_failed = TRUE,\n",
    "  include_canceled = TRUE\n",
    ")\n",
    "\n",
    "\n",
    "# # tag the runs \n",
    "# run1.add_properties(\"author\":\"yum\")\n",
    "# run1.tag(\"quality\",\"best_run\")\n",
    "# list(experiment.get_runs(properties = {\"author\":\"yum\"}, tags = {\"quality\" : \"best_run\"}))\n",
    "# best_model = experiment.get_runs(properties = {\"author\":\"yum\"}, tags = {\"quality\" : \"best_run\"})"
   ]
  },
  {
   "cell_type": "code",
   "execution_count": null,
   "id": "d6d0b31d",
   "metadata": {},
   "outputs": [],
   "source": [
    "from azureml.data.dataset_factory import TabularDatasetFactory\n",
    "\n",
    "# Create TabularDataset using TabularDatasetFactory\n",
    "# Data is available at: \n",
    "# \"https://automlsamplenotebookdata.blob.core.windows.net/automl-sample-notebook-data/bankmarketing_train.csv\"\n",
    "\n",
    "### YOUR CODE HERE ###\n",
    "datastore_path = ['https://automlsamplenotebookdata.blob.core.windows.net/automl-sample-notebook-data/bankmarketing_train.csv']\n",
    "dataset = Dataset.Tabular.from_delimited_files(path=datastore_path)\n",
    "ds = dataset.to_pandas_dataframe() "
   ]
  },
  {
   "cell_type": "code",
   "execution_count": null,
   "id": "2452dfca",
   "metadata": {},
   "outputs": [],
   "source": [
    "from train import clean_data\n",
    "\n",
    "# Use the clean_data function to clean your data.\n",
    "x, y = clean_data(ds)"
   ]
  },
  {
   "cell_type": "code",
   "execution_count": null,
   "id": "201a91a5",
   "metadata": {},
   "outputs": [],
   "source": [
    "from azureml.train.automl import AutoMLConfig\n",
    "\n",
    "# Set parameters for AutoMLConfig\n",
    "# NOTE: DO NOT CHANGE THE experiment_timeout_minutes PARAMETER OR YOUR INSTANCE WILL TIME OUT.\n",
    "# If you wish to run the experiment longer, you will need to run this notebook in your own\n",
    "# Azure tenant, which will incur personal costs.\n",
    "automl_config = AutoMLConfig(\n",
    "    experiment_timeout_minutes=30,\n",
    "    task= 'classification',\n",
    "    primary_metric= 'Accuracy',\n",
    "    training_data=x,\n",
    "    label_column_name=y,\n",
    "    n_cross_validations=5)"
   ]
  },
  {
   "cell_type": "code",
   "execution_count": null,
   "id": "d7922130",
   "metadata": {},
   "outputs": [],
   "source": [
    "# Submit your automl run\n",
    "\n",
    "### YOUR CODE HERE ###\n",
    "autorun = experiment.submit(automl_config, show_output = True)"
   ]
  },
  {
   "cell_type": "code",
   "execution_count": null,
   "id": "d11c042a",
   "metadata": {},
   "outputs": [],
   "source": [
    "# Retrieve and save your best automl model.\n",
    "\n",
    "### YOUR CODE HERE ###\n",
    "\n",
    "get_best_run_by_primary_metric(\n",
    "  autorun,\n",
    "  include_failed = TRUE,\n",
    "  include_canceled = TRUE\n",
    ")\n",
    "\n",
    "\n",
    "# autorun.add_properties(\"author\":\"yum\")\n",
    "# autorun.tag(\"quality\",\"best_auto_run\")\n",
    "# list(experiment.get_runs(properties = {\"author\":\"yum\"}, tags = {\"quality\" : \"best_auto_run\"}))\n",
    "# best_auto_model = experiment.get_runs(properties = {\"author\":\"yum\"}, tags = {\"quality\" : \"best_auto_run\"})"
   ]
  }
 ],
 "metadata": {
  "kernelspec": {
   "display_name": "Python 3",
   "language": "python",
   "name": "python3"
  },
  "language_info": {
   "codemirror_mode": {
    "name": "ipython",
    "version": 3
   },
   "file_extension": ".py",
   "mimetype": "text/x-python",
   "name": "python",
   "nbconvert_exporter": "python",
   "pygments_lexer": "ipython3",
   "version": "3.8.8"
  }
 },
 "nbformat": 4,
 "nbformat_minor": 5
}
